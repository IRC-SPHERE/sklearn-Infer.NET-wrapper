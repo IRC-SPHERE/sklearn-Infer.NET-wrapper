{
 "cells": [
  {
   "cell_type": "code",
   "execution_count": 1,
   "metadata": {
    "collapsed": true
   },
   "outputs": [],
   "source": [
    "from sklearn.base import BaseEstimator, ClassifierMixin\n",
    "import subprocess\n",
    "import numpy as np"
   ]
  },
  {
   "cell_type": "code",
   "execution_count": 4,
   "metadata": {
    "collapsed": false
   },
   "outputs": [],
   "source": [
    "class BayesPointMachine(BaseEstimator, ClassifierMixin):  \n",
    "    \"\"\"An example of classifier\"\"\"\n",
    "\n",
    "    def __init__(self, iterations=30, batches=1, compute_evidence=False,\n",
    "                 train_file=\"train.txt\",\n",
    "                 test_file=\"test.txt\",\n",
    "                 prediction_file=\"predictions.txt\",\n",
    "                 model_file=\"trained-binary-bpm.bin\",\n",
    "                 multiclass=False):\n",
    "        \"\"\"\n",
    "        Called when initializing the classifier\n",
    "        \"\"\"\n",
    "        self.iterations = iterations\n",
    "        self.batches = batches\n",
    "        self.compute_evidence = compute_evidence\n",
    "        self.train_file = train_file\n",
    "        self.test_file = test_file\n",
    "        self.prediction_file = prediction_file\n",
    "        self.model_file = model_file\n",
    "        self.multiclass = multiclass\n",
    "        self.trained = False\n",
    "        self.model_name = \"BinaryBayesPointMachine\" if not self.multiclass else \"MulticlassBayesPointMachine\"\n",
    "        self._classes = set()\n",
    "        \n",
    "    def fit(self, X, y=None):\n",
    "        \"\"\"\n",
    "        This should fit classifier. All the \"work\" should be done here.\n",
    "        \"\"\"\n",
    "        \n",
    "        self._classes = set(y)\n",
    "        \n",
    "        # First create the input file for Infer.NET\n",
    "        self._create_input_file(self.train_file, X, y)\n",
    "        \n",
    "        # Then call the command line runner\n",
    "        cmd = [\"mono\", \"Learner.exe\", \"Classifier\", self.model_name, \"Train\",\n",
    "               \"--training-set\", self.train_file, \n",
    "               \"--model\", self.model_file]\n",
    "        self._execute(cmd)\n",
    "        \n",
    "        self.trained = True\n",
    "        \n",
    "        return self\n",
    "\n",
    "    def predict_proba(self, X, y=None):\n",
    "        if not self.trained:\n",
    "            raise RuntimeError(\"You must train classifer before predicting data!\")\n",
    "        \n",
    "        # First create the input file for Infer.NET\n",
    "        self._create_input_file(self.test_file, X)\n",
    "        \n",
    "        # Then call the command line runner\n",
    "        cmd = [\"mono\", \"Learner.exe\", \"Classifier\", self.model_name, \"Predict\",\n",
    "               \"--test-set\", self.test_file, \n",
    "               \"--model\", self.model_file,\n",
    "               \"--predictions\", self.prediction_file]\n",
    "        self._execute(cmd)\n",
    "        \n",
    "        # Now load the predictions back in\n",
    "        preds = list(self._get_predictions())\n",
    "        return np.array(preds)\n",
    "        \n",
    "    def predict(self, X, y=None):\n",
    "        return([np.argmax(x) for x in self.predict_proba(X, y)])    \n",
    "\n",
    "    def _execute(self, cmd):\n",
    "        p = subprocess.Popen(cmd, shell=False, stdout=subprocess.PIPE, stderr=subprocess.STDOUT)\n",
    "        for line in iter(p.stdout.readline, ''): \n",
    "            print line\n",
    "        retval = p.wait()\n",
    "    \n",
    "    def _create_input_file(self, filename, X, y=None):\n",
    "        if y is None:\n",
    "            self._create_input_file(filename, X, [0 for i in range(len(X))])\n",
    "            return\n",
    "        with open(filename, 'w') as f:\n",
    "            for x_i, y_i in zip(X, y):\n",
    "                if hasattr(x_i, '__iter__'):\n",
    "                    f.write('%d ' % y_i + ['%d:%d' % (j, x_ij) for j, x_ij in enumerate(x_i)] + '\\n')\n",
    "                else:\n",
    "                    f.write('%d 0:%d\\n' % (y_i, x_i))\n",
    "\n",
    "    def _get_predictions(self):\n",
    "        with open(self.prediction_file) as f:\n",
    "            # 1=0.49321002813527 0=0.50678997186473\n",
    "            for line in f:\n",
    "                preds = np.empty((len(self._classes),))\n",
    "                for pred in line.split(' '):\n",
    "                    y, prob = pred.split('=')\n",
    "                    preds[y] = prob\n",
    "                yield preds"
   ]
  },
  {
   "cell_type": "code",
   "execution_count": 5,
   "metadata": {
    "collapsed": false
   },
   "outputs": [
    {
     "name": "stdout",
     "output_type": "stream",
     "text": [
      "Data set contains 20 instances, 2 classes and 1 features.\n",
      "\n",
      "Data set contains 20 instances, 1 classes and 1 features.\n",
      "\n"
     ]
    },
    {
     "name": "stderr",
     "output_type": "stream",
     "text": [
      "/usr/local/anaconda/lib/python2.7/site-packages/ipykernel/__main__.py:90: DeprecationWarning: using a non-integer number instead of an integer will result in an error in the future\n"
     ]
    },
    {
     "data": {
      "text/plain": [
       "[0, 1, 1, 1, 1, 1, 1, 1, 1, 1, 1, 1, 1, 1, 1, 1, 1, 1, 1, 1]"
      ]
     },
     "execution_count": 5,
     "metadata": {},
     "output_type": "execute_result"
    }
   ],
   "source": [
    "from sklearn.grid_search import GridSearchCV\n",
    "\n",
    "X_train = [i for i in range(0, 100, 5)]  \n",
    "X_test = [i + 3 for i in range(-5, 95, 5)]  \n",
    "\n",
    "bpm = BayesPointMachine()\n",
    "\n",
    "# for some reason I have to pass y with same shape\n",
    "# otherwise gridsearch throws an error. Not sure why.\n",
    "bpm.fit(X_test, y=[i / 10 for i in range(20)])\n",
    "\n",
    "bpm.predict(X_test)"
   ]
  },
  {
   "cell_type": "code",
   "execution_count": null,
   "metadata": {
    "collapsed": true
   },
   "outputs": [],
   "source": []
  }
 ],
 "metadata": {
  "kernelspec": {
   "display_name": "Python 2",
   "language": "python",
   "name": "python2"
  },
  "language_info": {
   "codemirror_mode": {
    "name": "ipython",
    "version": 2
   },
   "file_extension": ".py",
   "mimetype": "text/x-python",
   "name": "python",
   "nbconvert_exporter": "python",
   "pygments_lexer": "ipython2",
   "version": "2.7.11"
  }
 },
 "nbformat": 4,
 "nbformat_minor": 0
}
